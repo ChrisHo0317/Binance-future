{
 "cells": [
  {
   "cell_type": "code",
   "execution_count": null,
   "metadata": {},
   "outputs": [],
   "source": [
    "import pandas as pd\n",
    "import numpy as np\n",
    "\n",
    "# 生成一列随机数据\n",
    "np.random.seed(0)\n",
    "data = np.random.normal(0, 1, 1000)  # 正态分布的随机数据\n",
    "df = pd.DataFrame(data, columns=[\"Values\"])\n",
    "\n",
    "# 将数据划分为10个区间\n",
    "df[\"Quantiles\"] = pd.qcut(df[\"Values\"], 10000, labels=[f\"{round(i*0.01,2)}%\" for i in range(10000)])  # 用0%-90%作为标签\n",
    "\n",
    "# 显示划分后的数据\n",
    "print(df.head(10))\n"
   ]
  },
  {
   "cell_type": "code",
   "execution_count": null,
   "metadata": {},
   "outputs": [],
   "source": []
  }
 ],
 "metadata": {
  "kernelspec": {
   "display_name": ".venv",
   "language": "python",
   "name": "python3"
  },
  "language_info": {
   "codemirror_mode": {
    "name": "ipython",
    "version": 3
   },
   "file_extension": ".py",
   "mimetype": "text/x-python",
   "name": "python",
   "nbconvert_exporter": "python",
   "pygments_lexer": "ipython3",
   "version": "3.9.0"
  }
 },
 "nbformat": 4,
 "nbformat_minor": 2
}
