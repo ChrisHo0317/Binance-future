{
 "cells": [
  {
   "cell_type": "code",
   "execution_count": null,
   "metadata": {},
   "outputs": [],
   "source": [
    "import plotly.express as px\n",
    "import pandas as pd\n",
    "import pandas_ta as ta\n",
    "import plotly.graph_objects as go\n",
    "import vectorbt as vbt\n",
    "import warnings\n",
    "import numpy as np\n",
    "import plotly.io as pio\n",
    "import mplfinance as mpf\n",
    "pd.set_option(\"display.max_columns\", None)\n",
    "\n",
    "def find_relative_high(sequence, window=10):\n",
    "    is_high_point = [False] * len(sequence)\n",
    "    for i in range(len(sequence)):\n",
    "        left_index = max(0, i - window)\n",
    "        right_index = min(len(sequence), i + window + 1)\n",
    "        if sequence[i] == max(sequence[left_index: right_index]):\n",
    "            is_high_point[i] = True\n",
    "\n",
    "    return is_high_point\n",
    "\n",
    "\n",
    "\n",
    "def find_relative_low(sequence, window=10):\n",
    "    is_low_point = [False] * len(sequence)\n",
    "    for i in range(len(sequence)):\n",
    "        left_index = max(0, i - window)\n",
    "        right_index = min(len(sequence), i + window + 1)\n",
    "        if sequence[i] == min(sequence[left_index: right_index]):\n",
    "            is_low_point[i] = True\n",
    "\n",
    "    return is_low_point\n",
    "\n"
   ]
  },
  {
   "cell_type": "code",
   "execution_count": null,
   "metadata": {},
   "outputs": [],
   "source": [
    "df = pd.read_csv(r'binance_demo_LEVERUSDT_15m.csv')"
   ]
  },
  {
   "cell_type": "code",
   "execution_count": null,
   "metadata": {},
   "outputs": [],
   "source": [
    "def High_value(High_list , length = 10 ):\n",
    "    High_max = [High_list[0] for l in range(length-1)]\n",
    "    for i in range(length-1,len(High_list)):\n",
    "            High_max.append(max(High_list[i-length+1:i+1]))\n",
    "    return High_max\n",
    "\n",
    "\n",
    "High_list = list(df['Close'])\n",
    "High_max = High_value(High_list,20)\n",
    "df['High_max'] = High_max\n",
    "df['High_max'] = df['High_max'].shift(1)"
   ]
  },
  {
   "cell_type": "code",
   "execution_count": null,
   "metadata": {},
   "outputs": [],
   "source": [
    "df['SMA_5_H'] = df.ta.sma(closs = 'High',length =5)\n",
    "df['SMA_20'] = df.ta.sma(closs = 'Close',length =20)\n",
    "df['SMA_60'] = df.ta.sma(closs = 'Close',length =60)\n",
    "df['SMA_60_shift'] = df['SMA_60'].shift(1)\n",
    "df['Dif_H_L'] = df['High']-df['Low']\n",
    "df['SMA_5_H_L'] = df.ta.sma(closs = 'Dif_H_L',length =5)\n",
    "relative_high_points  = find_relative_high(list(df['SMA_5_H']),5)\n",
    "relative_low_points  = find_relative_low(list(df['SMA_5_H']),5)\n",
    "df['High_points'] = relative_high_points\n",
    "df['Low_points'] = relative_low_points\n",
    "df['High_Low_price'] = df.apply(lambda x : x['SMA_5_H'] if x['High_points'] else x['SMA_5_H']  if x['Low_points'] else None ,axis=1)\n",
    "df['High_Low_mark'] = df.apply(lambda x : 'High' if x['High_points'] else 'Low'  if x['Low_points'] else None ,axis=1)\n",
    "df['Date'] = pd.to_datetime(df['date'], unit='ms')\n",
    "df.set_index(['Date'], inplace=True)\n",
    "Volatility_line = mpf.make_addplot(df['SMA_5_H_L'], color='red', panel = 2,)\n",
    "mpf.plot(df, type = 'candle', style = 'binance', title = 'Test',  addplot = [Volatility_line],volume = True)"
   ]
  },
  {
   "cell_type": "code",
   "execution_count": null,
   "metadata": {},
   "outputs": [],
   "source": [
    "fig =go.Figure()\n",
    "fig.add_traces(go.Scatter(x = df['time'] , y =df['Close'] , mode='lines+markers' , name = 'Close'))\n",
    "fig.add_traces(go.Scatter(x = df['time'] , y =df['High_max'] , mode='lines+markers' , name = 'Close'))\n",
    "fig.add_traces(go.Scatter(x = df['time'] , y =df['SMA_20'] , mode='lines+markers' , name = 'Close'))\n",
    "fig"
   ]
  },
  {
   "cell_type": "markdown",
   "metadata": {},
   "source": [
    "回測"
   ]
  },
  {
   "cell_type": "code",
   "execution_count": null,
   "metadata": {},
   "outputs": [],
   "source": [
    "df = pd.concat([df,ta.bbands(close= df['Close'] , length=20, std=2, mamode=\"sma\" )],axis=1)\n",
    "df['BBU_20_2.0_shift'] = df['BBU_20_2.0'].shift(1)\n",
    "df = df.fillna(method='bfill')\n",
    "entries = (df['Close']>df['BBU_20_2.0_shift'] ) & (df['Close']>df['High_max']) & (df['Close']>df['SMA_60']) & (df['SMA_60'] > df['SMA_60_shift'])\n",
    "exits = df['Close']<df['SMA_20'] "
   ]
  },
  {
   "cell_type": "code",
   "execution_count": null,
   "metadata": {},
   "outputs": [],
   "source": [
    "df.ta.cores=4\n",
    "pf = vbt.Portfolio.from_signals(df['Close'],entries=entries ,exits=exits ,init_cash=30,fees=0.01)\n",
    "\n",
    "print(pf.stats())"
   ]
  },
  {
   "cell_type": "code",
   "execution_count": null,
   "metadata": {},
   "outputs": [],
   "source": [
    "# print(pf.orders.records_readable)\n",
    "pf.orders.plot(width = 1000)"
   ]
  }
 ],
 "metadata": {
  "kernelspec": {
   "display_name": ".venv",
   "language": "python",
   "name": "python3"
  },
  "language_info": {
   "codemirror_mode": {
    "name": "ipython",
    "version": 3
   },
   "file_extension": ".py",
   "mimetype": "text/x-python",
   "name": "python",
   "nbconvert_exporter": "python",
   "pygments_lexer": "ipython3",
   "version": "3.9.0"
  }
 },
 "nbformat": 4,
 "nbformat_minor": 2
}
